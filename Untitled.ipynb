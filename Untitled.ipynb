{
 "cells": [
  {
   "cell_type": "code",
   "execution_count": 1,
   "metadata": {},
   "outputs": [],
   "source": [
    "from pymatgen.core import Structure as p\n",
    "from pymatgen.io import pwscf\n",
    "from matplotlib import pyplot as plt\n",
    "from pymatgen.symmetry.analyzer  import SpacegroupAnalyzer as sym\n",
    "import numpy as np\n",
    "from pymatgen.core.units import ArrayWithUnit as conv\n",
    "\n",
    "def remove_coords(fname=\"scf.in\"):\n",
    "    with open(fname) as f1:\n",
    "        lines = f1.readlines()\n",
    "\n",
    "    with open(fname,\"w\") as f2:\n",
    "        f2.writelines(lines[:-4])"
   ]
  },
  {
   "cell_type": "code",
   "execution_count": 7,
   "metadata": {},
   "outputs": [],
   "source": [
    "\n",
    "s=p.from_file(\"NaGaO2.cif\")\n",
    "pseudo={\"Na\":\"Na.pbe-spn-kjpaw_psl.1.0.0.UPF\",\n",
    "        \"Ga\":\"Ga.pbe-dn-kjpaw_psl.1.0.0.UPF\",\n",
    "        \"O\":\"O.pbe-n-kjpaw_psl.1.0.0.UPF\"}\n",
    "control={'pseudo_dir' : '/home/srr70/QE/pseudo/pslibrary.1.0.0/pbe/PSEUDOPOTENTIALS/',\n",
    "        'verbosity' :'high',\n",
    "         'prefix':'lco',\n",
    "        'calculation': 'vc-relax',\n",
    "         'restart_mode':'from_scratch',\n",
    "         'nstep':100,\n",
    "         'wf_collect':True,\n",
    "        'outdir': './',\n",
    "        'tprnfor':True,\n",
    "        'tstress':True}\n",
    "system={\"ecutwfc\":80.0 ,\n",
    "        \"ecutrho\" :240.0,\n",
    "        \"occupations\":'smearing',\n",
    "        \"smearing\":'mp',\n",
    "        \"degauss\":0.02,}\n",
    "electrons={\"diagonalization\":'david'}\n",
    "pw=pwscf.PWInput(s,pseudo=pseudo,\n",
    "                 control=control,\n",
    "                 kpoints_grid=(8,8,2),\n",
    "                 electrons=electrons,\n",
    "                system=system)\n",
    "pw.write_file(\"scf.in\")"
   ]
  },
  {
   "cell_type": "code",
   "execution_count": 2,
   "metadata": {},
   "outputs": [],
   "source": [
    "# for second scf\n",
    "prefix=\"lco\"\n",
    "s1=p.from_file(\"../structures/lco_gpw_relax.cif\")\n",
    "s1.replace_species({\"Li\":\"Na\"})\n",
    "s=sym(s1).get_symmetrized_structure()\n",
    "pseudo={\"Na\":\"Na.pbe-spn-kjpaw_psl.1.0.0.UPF\",\n",
    "        \"Co\":\"Co.pbe-n-kjpaw_psl.1.0.0.UPF\",\n",
    "        \"O\":\"O.pbe-n-kjpaw_psl.1.0.0.UPF\"}\n",
    "control={'pseudo_dir' : '/home/srr70/QE/pseudo/pslibrary.1.0.0/pbe/PSEUDOPOTENTIALS/',\n",
    "        'verbosity' :'high',\n",
    "         'prefix':prefix,\n",
    "        'calculation': 'scf',\n",
    "         'restart_mode':'from_scratch',\n",
    "        'outdir': './',\n",
    "        'wf_collect':True,\n",
    "        }\n",
    "system={\"ecutwfc\":120.0 ,\n",
    "        \"ecutrho\" : 480.0,\n",
    "        \"occupations\":'smearing',\n",
    "        \"smearing\":'mp',\n",
    "        \"degauss\":0.02,\n",
    "        \"ibrav\":4,\n",
    "        \"celldm(1)\":conv(s1.lattice.abc,\"ang\").to(\"bohr\")[0],\n",
    "        \"celldm(3)\":conv(s1.lattice.abc,\"ang\").to(\"bohr\")[2]/conv(s1.lattice.abc,\"ang\").to(\"bohr\")[0],\n",
    "       }\n",
    "electrons={\"diagonalization\":'david'}\n",
    "pw=pwscf.PWInput(s,pseudo=pseudo,\n",
    "                 control=control,\n",
    "                 kpoints_grid=(12,12,1),\n",
    "                 electrons=electrons,\n",
    "                system=system)\n",
    "pw.write_file(\"scf.in\")\n",
    "remove_coords(fname=\"scf.in\")\n",
    "!open scf.in"
   ]
  },
  {
   "cell_type": "code",
   "execution_count": 36,
   "metadata": {},
   "outputs": [],
   "source": [
    "from pymatgen.core.lattice import Lattice\n",
    "import pymatgen as p\n",
    "lat_relax=Lattice([[ 2.926519575,   0.007890722 ,  4.862722998],\n",
    "   [1.358045610 ,  2.592321279  , 4.862706222],\n",
    "   [0.014747909 ,  0.008913855  , 5.675690849]])\n",
    "atoms=[\"Na\",\"Ga\",\"O\",\"O\"]\n",
    "pos=[[0.0000000000    ,    0.0000000000       , 0.0000000000],[0.5000000000 ,       0.5000000000   ,     0.5000000000],\n",
    "[0.2326558469    ,    0.2326703600   ,     0.23290228341],[0.7673441531   ,     0.7673296400    ,    0.7670977166]]"
   ]
  },
  {
   "cell_type": "code",
   "execution_count": 39,
   "metadata": {},
   "outputs": [],
   "source": [
    "relax=p.core.Structure(species=atoms,coords=pos,lattice=\n",
    "                 Lattice.from_parameters(lat_relax.abc[0],\n",
    "                lat_relax.abc[0],lat_relax.abc[0],\n",
    "                lat_relax.angles[0],\n",
    "                lat_relax.angles[0],\n",
    "                lat_relax.angles[0])\n",
    "                )\n",
    "relax.to(\"cif\",\"relax_nagao3.cif\")"
   ]
  },
  {
   "cell_type": "code",
   "execution_count": 32,
   "metadata": {},
   "outputs": [],
   "source": [
    "s=relax\n",
    "pseudo={\"Na\":\"Na.pbe-spn-kjpaw_psl.1.0.0.UPF\",\n",
    "        \"Ga\":\"Ga.pbe-dn-kjpaw_psl.1.0.0.UPF\",\n",
    "        \"O\":\"O.pbe-n-kjpaw_psl.1.0.0.UPF\"}\n",
    "control={'pseudo_dir' : '/home/srr70/QE/pseudo/pslibrary.1.0.0/pbe/PSEUDOPOTENTIALS/',\n",
    "        'verbosity' :'high',\n",
    "         'prefix':'lco',\n",
    "        'calculation': 'vc-relax',\n",
    "         'restart_mode':'from_scratch',\n",
    "         'nstep':100,\n",
    "         'wf_collect':True,\n",
    "        'outdir': './',\n",
    "        'tprnfor':True,\n",
    "        'tstress':True}\n",
    "system={\"ecutwfc\":80.0 ,\n",
    "        \"ecutrho\" :240.0,\n",
    "        \"occupations\":'smearing',\n",
    "        \"smearing\":'mp',\n",
    "        \"degauss\":0.02,}\n",
    "cell={\"cell_dynamics\":'bfgs',\n",
    "     'press':0,\n",
    "     'press_conv_thr':0.5}\n",
    "ions={'ion_dynamics':'bfgs'}\n",
    "electrons={\"diagonalization\":'david'}\n",
    "pw=pwscf.PWInput(s,pseudo=pseudo,\n",
    "                 control=control,\n",
    "                 kpoints_grid=(8,8,2),\n",
    "                 electrons=electrons,\n",
    "                 cell=cell,\n",
    "                 ions=ions,\n",
    "                system=system)\n",
    "pw.write_file(\"scf_relax.in\")"
   ]
  },
  {
   "cell_type": "markdown",
   "metadata": {},
   "source": [
    "# MOO$_3$"
   ]
  },
  {
   "cell_type": "code",
   "execution_count": 20,
   "metadata": {},
   "outputs": [],
   "source": [
    "\n",
    "s1=p.from_file(\"moo3.cif\")\n",
    "pos=[[0.7500000000,0.4226804142,0.9219499733,],\n",
    "[0.2500000000,0.5773195858,0.0780500267,],\n",
    "[0.7500000000,0.9822029793,0.9327195960,],\n",
    "[0.2500000000,0.0177970207,0.0672804040,],\n",
    "[0.7500000000,0.4660731525,0.8329767731,],\n",
    "[0.2500000000,0.5339268475,0.1670232269,],\n",
    "[0.2500000000,0.4943669720,0.9494999441,],\n",
    "[0.7500000000,0.5056330280,0.0505000559,]]\n",
    "s=p(lattice=s1.lattice,species=s1.species,coords=pos)\n",
    "pseudo={\"Mo\":\"Mo.pbe-spn-kjpaw_psl.1.0.0.UPF\",\n",
    "        \"O\":\"O.pbe-n-kjpaw_psl.1.0.0.UPF\"}\n",
    "control={'pseudo_dir' : '/home/srr70/QE/pseudo/pslibrary.1.0.0/pbe/PSEUDOPOTENTIALS/',\n",
    "        'verbosity' :'high',\n",
    "         'prefix':'lco',\n",
    "        'calculation': 'scf',\n",
    "         'restart_mode':'from_scratch',\n",
    "#          'nstep':100,\n",
    "         'wf_collect':True,\n",
    "        'outdir': './',\n",
    "        'tprnfor':True,\n",
    "        'tstress':True}\n",
    "system={\"ecutwfc\":120.0 ,\n",
    "        \"ecutrho\" : 280.0,\n",
    "        \"occupations\":'smearing',\n",
    "#         'la2F':True,\n",
    "        \"smearing\":'mp',\n",
    "        \"degauss\":0.02,\n",
    "        \"ibrav\":8,\n",
    "        \"celldm(1)\":conv(s1.lattice.abc,\"ang\").to(\"bohr\")[0],\n",
    "        \"celldm(2)\":conv(s1.lattice.abc,\"ang\").to(\"bohr\")[1]/conv(s1.lattice.abc,\"ang\").to(\"bohr\")[0],\n",
    "        \"celldm(3)\":conv(s1.lattice.abc,\"ang\").to(\"bohr\")[2]/conv(s1.lattice.abc,\"ang\").to(\"bohr\")[0],\n",
    "       }\n",
    "electrons={\"diagonalization\":'david',\n",
    "          'conv_thr': 1.0e-10,}\n",
    "pw=pwscf.PWInput(s,pseudo=pseudo,\n",
    "                 control=control,\n",
    "                 kpoints_grid=(8,8,1),\n",
    "                 electrons=electrons,\n",
    "                system=system)\n",
    "pw.write_file(\"scf_moo3.in\")"
   ]
  },
  {
   "cell_type": "markdown",
   "metadata": {},
   "source": [
    "Moo3 bulk"
   ]
  },
  {
   "cell_type": "code",
   "execution_count": 23,
   "metadata": {},
   "outputs": [],
   "source": [
    "\n",
    "s=p.from_file(\"moo3_bulk.cif\")\n",
    "pseudo={\"Mo\":\"Mo.pbesol-spn-kjpaw_psl.1.0.0.UPF\",\n",
    "        \"O\":\"O.pbesol-n-kjpaw_psl.1.0.0.UPF\"}\n",
    "control={'pseudo_dir' : './pseudo',\n",
    "        'verbosity' :'high',\n",
    "         'prefix':'lco',\n",
    "        'calculation': 'scf',\n",
    "         'restart_mode':'from_scratch',\n",
    "        'outdir': './',\n",
    "        'tprnfor':True,\n",
    "        'tstress':True}\n",
    "system={\"ecutwfc\":120.0 ,\n",
    "        \"ecutrho\" : 280.0,\n",
    "        \"occupations\":'fixed',\n",
    "        \"degauss\":0.005,\n",
    "        \"ibrav\":8,\n",
    "        \"celldm(1)\":conv(s1.lattice.abc,\"ang\").to(\"bohr\")[0],\n",
    "        \"celldm(2)\":conv(s1.lattice.abc,\"ang\").to(\"bohr\")[1]/conv(s1.lattice.abc,\"ang\").to(\"bohr\")[0],\n",
    "        \"celldm(3)\":conv(s1.lattice.abc,\"ang\").to(\"bohr\")[2]/conv(s1.lattice.abc,\"ang\").to(\"bohr\")[0],\n",
    "       }\n",
    "electrons={\"diagonalization\":'david',\n",
    "          'conv_thr': 1.0e-10,}\n",
    "pw=pwscf.PWInput(s,pseudo=pseudo,\n",
    "                 control=control,\n",
    "                 kpoints_grid=(8,8,4),\n",
    "                 electrons=electrons,\n",
    "                system=system)\n",
    "pw.write_file(\"scf_moo3_bulk.in\")"
   ]
  },
  {
   "cell_type": "code",
   "execution_count": 2,
   "metadata": {},
   "outputs": [],
   "source": [
    "from pymatgen.core.lattice import Lattice\n",
    "import numpy as np\n",
    "import pymatgen as p\n",
    "lat=np.array([\n",
    "    [0.978999897,0.000000000,0.000000000],\n",
    "   [0.000000000,1.026444481,0.000000000],\n",
    "   [0.000000000,0.000000000,4.498551440]])*7.10730720\n",
    "lat=conv(lat,\"bohr\").to(\"ang\")\n",
    "lat_relax=Lattice(lat)\n",
    "atoms=[\"Mo\"]*4 + [\"O\"]*12\n",
    "pos=[[0.2500000000,0.9185325327,0.5856055727],\n",
    "[0.7500000000,0.4185325327,0.9143944273],\n",
    "[0.2500000000,0.5814674673,0.0856055727],\n",
    "[0.7500000000,0.0814674673,0.4143944273],\n",
    "[0.7500000000,0.9696190703,0.9268386883],\n",
    "[0.2500000000,0.4696190703,0.5731613117],\n",
    "[0.2500000000,0.0303809297,0.0731613117],\n",
    "[0.7500000000,0.5303809297,0.4268386883],\n",
    "[0.7500000000,0.4698661528,0.8158163064],\n",
    "[0.2500000000,0.9698661528,0.6841836936],\n",
    "[0.7500000000,0.0301338472,0.3158163064],\n",
    "[0.2500000000,0.5301338472,0.1841836936],\n",
    "[0.2500000000,0.4881304931,0.9481993725],\n",
    "[0.2500000000,0.0118695069,0.4481993725],\n",
    "[0.7500000000,0.5118695069,0.0518006275],\n",
    "[0.7500000000,0.9881304931,0.5518006275]]"
   ]
  },
  {
   "cell_type": "code",
   "execution_count": 3,
   "metadata": {},
   "outputs": [],
   "source": [
    "relax=p.core.Structure(species=atoms,coords=pos,lattice=\n",
    "                 lat_relax\n",
    "                )"
   ]
  },
  {
   "cell_type": "code",
   "execution_count": 4,
   "metadata": {},
   "outputs": [
    {
     "data": {
      "text/plain": [
       "(3.682043088717572, 3.8604833553096327, 16.919164434695013)"
      ]
     },
     "execution_count": 4,
     "metadata": {},
     "output_type": "execute_result"
    }
   ],
   "source": [
    "relax.to(\"cif\",\"moo3_phonons/moo3_sol.cif\")\n",
    "relax.lattice.abc"
   ]
  },
  {
   "cell_type": "code",
   "execution_count": 29,
   "metadata": {},
   "outputs": [
    {
     "data": {
      "text/plain": [
       "(3.761025, 3.969304, 14.425446)"
      ]
     },
     "execution_count": 29,
     "metadata": {},
     "output_type": "execute_result"
    }
   ],
   "source": [
    "s=p.core.Structure.from_file(\"moo3_phonons/moo3_bulk.cif\")\n",
    "s.lattice.abc"
   ]
  },
  {
   "cell_type": "code",
   "execution_count": 6,
   "metadata": {},
   "outputs": [
    {
     "data": {
      "text/plain": [
       "6.958053016747359"
      ]
     },
     "execution_count": 6,
     "metadata": {},
     "output_type": "execute_result"
    }
   ],
   "source": [
    "conv(relax.lattice.abc,\"ang\").to(\"bohr\")[0]"
   ]
  },
  {
   "cell_type": "code",
   "execution_count": 8,
   "metadata": {},
   "outputs": [
    {
     "data": {
      "text/plain": [
       "4.595047919601568"
      ]
     },
     "execution_count": 8,
     "metadata": {},
     "output_type": "execute_result"
    }
   ],
   "source": [
    "conv(relax.lattice.abc,\"ang\").to(\"bohr\")[2]/conv(relax.lattice.abc,\"ang\").to(\"bohr\")[0]"
   ]
  },
  {
   "cell_type": "code",
   "execution_count": null,
   "metadata": {},
   "outputs": [],
   "source": []
  }
 ],
 "metadata": {
  "kernelspec": {
   "display_name": "Python 3",
   "language": "python",
   "name": "python3"
  },
  "language_info": {
   "codemirror_mode": {
    "name": "ipython",
    "version": 3
   },
   "file_extension": ".py",
   "mimetype": "text/x-python",
   "name": "python",
   "nbconvert_exporter": "python",
   "pygments_lexer": "ipython3",
   "version": "3.8.5"
  }
 },
 "nbformat": 4,
 "nbformat_minor": 4
}
