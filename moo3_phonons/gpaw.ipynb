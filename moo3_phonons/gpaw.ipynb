{
 "metadata": {
  "language_info": {
   "codemirror_mode": {
    "name": "ipython",
    "version": 3
   },
   "file_extension": ".py",
   "mimetype": "text/x-python",
   "name": "python",
   "nbconvert_exporter": "python",
   "pygments_lexer": "ipython3",
   "version": "3.8.5-final"
  },
  "orig_nbformat": 2,
  "kernelspec": {
   "name": "python3",
   "display_name": "Python 3"
  }
 },
 "nbformat": 4,
 "nbformat_minor": 2,
 "cells": [
  {
   "cell_type": "code",
   "execution_count": 1,
   "metadata": {},
   "outputs": [],
   "source": [
    "from pymatgen.core import Structure as p\n",
    "from pymatgen.io import pwscf\n",
    "from matplotlib import pyplot as plt\n",
    "from pymatgen.symmetry.analyzer  import SpacegroupAnalyzer as sym\n",
    "import numpy as np\n",
    "from pymatgen.core.units import ArrayWithUnit as conv\n"
   ]
  },
  {
   "cell_type": "code",
   "execution_count": 2,
   "metadata": {},
   "outputs": [],
   "source": [
    "s=p.from_file(\"moo3_bulk.cif\")"
   ]
  },
  {
   "cell_type": "code",
   "execution_count": 5,
   "metadata": {},
   "outputs": [
    {
     "output_type": "stream",
     "name": "stdout",
     "text": [
      "Writing phonon.eq.pckl\n",
      "Writing phonon.0x-.pckl\n",
      "Writing phonon.0x+.pckl\n",
      "Writing phonon.0y-.pckl\n",
      "Writing phonon.0y+.pckl\n",
      "Writing phonon.0z-.pckl\n",
      "Writing phonon.0z+.pckl\n"
     ]
    }
   ],
   "source": [
    "from ase.build import bulk\n",
    "from gpaw import GPAW\n",
    "from ase.phonons import Phonons\n",
    "import ase\n",
    "\n",
    "atoms=ase.io.read(\"moo3_bulk.cif\")\n",
    "\n",
    "calc = GPAW(symmetry={'point_group': False},\n",
    "             mode='lcao',\n",
    "             basis='szp(dzp)',\n",
    "             kpts=(6,6,3)\n",
    "             convergence={'density': 1e-7},\n",
    "             xc='PBEsol',\n",
    "             occupations=FermiDirac(0.01))\n",
    "\n",
    "ph = Phonons(atoms, calc(), supercell=(3, 3, 2), delta=0.05)\n",
    "ph.run()\n",
    "\n",
    "ph.read(acoustic=True)\n",
    "force_constants=ph.get_force_constant()\n",
    "ph.acoustic(force_constants)\n",
    "force_constants=ph.symmetrize(force_constants)\n",
    "np.save(\"force_constant.npy\",force_constants)\n",
    "import dill as pickle\n",
    "with open('phonons.pkl', 'wb') as file:\n",
    "    pickle.dump(ph, file)"
   ]
  },
  {
   "cell_type": "code",
   "execution_count": 23,
   "metadata": {},
   "outputs": [],
   "source": [
    "\n"
   ]
  },
  {
   "cell_type": "code",
   "execution_count": 21,
   "metadata": {},
   "outputs": [
    {
     "output_type": "execute_result",
     "data": {
      "text/plain": [
       "Atoms(symbols='Mo4O12', pbc=True, cell=[3.761025, 3.969304, 14.425446], spacegroup_kinds=...)"
      ]
     },
     "metadata": {},
     "execution_count": 21
    }
   ],
   "source": []
  },
  {
   "cell_type": "code",
   "execution_count": 16,
   "metadata": {},
   "outputs": [],
   "source": []
  },
  {
   "cell_type": "code",
   "execution_count": null,
   "metadata": {},
   "outputs": [],
   "source": []
  }
 ]
}