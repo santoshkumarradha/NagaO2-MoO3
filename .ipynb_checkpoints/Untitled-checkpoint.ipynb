{
 "cells": [
  {
   "cell_type": "code",
   "execution_count": 4,
   "metadata": {},
   "outputs": [],
   "source": [
    "from pymatgen.core import Structure as p\n",
    "from pymatgen.io import pwscf\n",
    "from matplotlib import pyplot as plt\n",
    "from pymatgen.symmetry.analyzer  import SpacegroupAnalyzer as sym\n",
    "import numpy as np\n",
    "from pymatgen.core.units import ArrayWithUnit as conv\n",
    "\n",
    "def remove_coords(fname=\"scf.in\"):\n",
    "    with open(fname) as f1:\n",
    "        lines = f1.readlines()\n",
    "\n",
    "    with open(fname,\"w\") as f2:\n",
    "        f2.writelines(lines[:-4])"
   ]
  },
  {
   "cell_type": "code",
   "execution_count": 7,
   "metadata": {},
   "outputs": [],
   "source": [
    "\n",
    "s=p.from_file(\"NaGaO2.cif\")\n",
    "pseudo={\"Na\":\"Na.pbe-spn-kjpaw_psl.1.0.0.UPF\",\n",
    "        \"Ga\":\"Ga.pbe-dn-kjpaw_psl.1.0.0.UPF\",\n",
    "        \"O\":\"O.pbe-n-kjpaw_psl.1.0.0.UPF\"}\n",
    "control={'pseudo_dir' : '/home/srr70/QE/pseudo/pslibrary.1.0.0/pbe/PSEUDOPOTENTIALS/',\n",
    "        'verbosity' :'high',\n",
    "         'prefix':'lco',\n",
    "        'calculation': 'vc-relax',\n",
    "         'restart_mode':'from_scratch',\n",
    "         'nstep':100,\n",
    "         'wf_collect':True,\n",
    "        'outdir': './',\n",
    "        'tprnfor':True,\n",
    "        'tstress':True}\n",
    "system={\"ecutwfc\":80.0 ,\n",
    "        \"ecutrho\" :240.0,\n",
    "        \"occupations\":'smearing',\n",
    "        \"smearing\":'mp',\n",
    "        \"degauss\":0.02,}\n",
    "electrons={\"diagonalization\":'david'}\n",
    "pw=pwscf.PWInput(s,pseudo=pseudo,\n",
    "                 control=control,\n",
    "                 kpoints_grid=(8,8,2),\n",
    "                 electrons=electrons,\n",
    "                system=system)\n",
    "pw.write_file(\"scf.in\")"
   ]
  },
  {
   "cell_type": "code",
   "execution_count": 2,
   "metadata": {},
   "outputs": [],
   "source": [
    "# for second scf\n",
    "prefix=\"lco\"\n",
    "s1=p.from_file(\"../structures/lco_gpw_relax.cif\")\n",
    "s1.replace_species({\"Li\":\"Na\"})\n",
    "s=sym(s1).get_symmetrized_structure()\n",
    "pseudo={\"Na\":\"Na.pbe-spn-kjpaw_psl.1.0.0.UPF\",\n",
    "        \"Co\":\"Co.pbe-n-kjpaw_psl.1.0.0.UPF\",\n",
    "        \"O\":\"O.pbe-n-kjpaw_psl.1.0.0.UPF\"}\n",
    "control={'pseudo_dir' : '/home/srr70/QE/pseudo/pslibrary.1.0.0/pbe/PSEUDOPOTENTIALS/',\n",
    "        'verbosity' :'high',\n",
    "         'prefix':prefix,\n",
    "        'calculation': 'scf',\n",
    "         'restart_mode':'from_scratch',\n",
    "        'outdir': './',\n",
    "        'wf_collect':True,\n",
    "        }\n",
    "system={\"ecutwfc\":120.0 ,\n",
    "        \"ecutrho\" : 480.0,\n",
    "        \"occupations\":'smearing',\n",
    "        \"smearing\":'mp',\n",
    "        \"degauss\":0.02,\n",
    "        \"ibrav\":4,\n",
    "        \"celldm(1)\":conv(s1.lattice.abc,\"ang\").to(\"bohr\")[0],\n",
    "        \"celldm(3)\":conv(s1.lattice.abc,\"ang\").to(\"bohr\")[2]/conv(s1.lattice.abc,\"ang\").to(\"bohr\")[0],\n",
    "       }\n",
    "electrons={\"diagonalization\":'david'}\n",
    "pw=pwscf.PWInput(s,pseudo=pseudo,\n",
    "                 control=control,\n",
    "                 kpoints_grid=(12,12,1),\n",
    "                 electrons=electrons,\n",
    "                system=system)\n",
    "pw.write_file(\"scf.in\")\n",
    "remove_coords(fname=\"scf.in\")\n",
    "!open scf.in"
   ]
  },
  {
   "cell_type": "code",
   "execution_count": 18,
   "metadata": {},
   "outputs": [],
   "source": [
    "from pymatgen.core.lattice import Lattice\n",
    "import pymatgen as p\n",
    "lat_relax=Lattice([[ 3.275845445   ,0.232351419  , 4.607614810],\n",
    "   [1.699760988  , 2.809976292   ,4.607613310],\n",
    "  [ 0.436769860  , 0.267058669  , 5.648865504]])\n",
    "atoms=[\"Na\",\"Ga\",\"O\",\"O\"]\n",
    "pos=[[0.0000000000    ,    0.0000000000       , 0.0000000000],[0.5000000000 ,       0.5000000000   ,     0.5000000000],\n",
    "[0.2332726444     ,   0.2332746533     ,   0.2319194341],[0.7667273556     ,   0.7667253467    ,    0.7680805659]]"
   ]
  },
  {
   "cell_type": "code",
   "execution_count": 19,
   "metadata": {},
   "outputs": [],
   "source": []
  },
  {
   "cell_type": "code",
   "execution_count": 26,
   "metadata": {},
   "outputs": [],
   "source": [
    "p.core.Structure(species=atoms,coords=pos,lattice=\n",
    "                 Lattice.from_parameters(lat_relax.abc[0],\n",
    "                lat_relax.abc[1],lat_relax.abc[2],\n",
    "                lat_relax.angles[0],\n",
    "                lat_relax.angles[0],\n",
    "                lat_relax.angles[0])\n",
    "                ).to(\"cif\",\"relax_nagao3.cif\")"
   ]
  },
  {
   "cell_type": "code",
   "execution_count": 25,
   "metadata": {},
   "outputs": [
    {
     "data": {
      "text/plain": [
       "Lattice\n",
       "    abc : 5.658203318967064 5.658202417059498 5.672016372117913\n",
       " angles : 30.96117839860977 30.961178398609807 30.96117839860978\n",
       " volume : 42.63319313182241\n",
       "      A : 2.9109032688440393 0.0 4.852000304843661\n",
       "      B : 1.3438085314076476 2.582156805890524 4.851999531443425\n",
       "      C : 0.0 0.0 5.672016372117913"
      ]
     },
     "execution_count": 25,
     "metadata": {},
     "output_type": "execute_result"
    }
   ],
   "source": []
  },
  {
   "cell_type": "code",
   "execution_count": null,
   "metadata": {},
   "outputs": [],
   "source": []
  }
 ],
 "metadata": {
  "kernelspec": {
   "display_name": "Python 3",
   "language": "python",
   "name": "python3"
  },
  "language_info": {
   "codemirror_mode": {
    "name": "ipython",
    "version": 3
   },
   "file_extension": ".py",
   "mimetype": "text/x-python",
   "name": "python",
   "nbconvert_exporter": "python",
   "pygments_lexer": "ipython3",
   "version": "3.8.5"
  }
 },
 "nbformat": 4,
 "nbformat_minor": 4
}
